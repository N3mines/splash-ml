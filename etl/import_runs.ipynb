{
 "cells": [
  {
   "cell_type": "code",
   "execution_count": null,
   "metadata": {},
   "outputs": [],
   "source": [
    "import databroker\n",
    "import suitcase.mongo_normalized    \n",
    "read_catalog = databroker.catalog['[read catalog]']     \n",
    "serializer = suitcase.mongo_normalized.Serializer( \n",
    "    read_catalog._metadatastore_db, \n",
    "    read_catalog._asset_registry_db) \n",
    "    \n",
    "import intake\n",
    "\n",
    "BlueskyMsgpackCatalog = intake.registry['bluesky-msgpack-catalog']\n",
    "source_catalog = BlueskyMsgpackCatalog('[file path]/*.msgpack')    \n",
    "for _, run in source_catalog.items(): \n",
    "    for name, doc in run.canonical(fill='no'): \n",
    "        serializer(name, doc) \n",
    "csx_examples.force_reload()\n",
    "\n",
    "\n",
    "\n"
   ]
  }
 ],
 "metadata": {
  "file_extension": ".py",
  "kernelspec": {
   "display_name": "Python 3",
   "language": "python",
   "name": "python3"
  },
  "language_info": {
   "codemirror_mode": {
    "name": "ipython",
    "version": 3
   },
   "file_extension": ".py",
   "mimetype": "text/x-python",
   "name": "python",
   "nbconvert_exporter": "python",
   "pygments_lexer": "ipython3",
   "version": "3.7.5"
  },
  "mimetype": "text/x-python",
  "name": "python",
  "npconvert_exporter": "python",
  "pygments_lexer": "ipython3",
  "version": 3
 },
 "nbformat": 4,
 "nbformat_minor": 2
}
